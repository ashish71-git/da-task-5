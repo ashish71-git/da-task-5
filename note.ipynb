{
 "cells": [
  {
   "cell_type": "markdown",
   "metadata": {},
   "source": "# Titanic Dataset EDA - Complete Analysis"
  },
  {
   "cell_type": "markdown",
   "metadata": {},
   "source": "## 1. Import Libraries"
  },
  {
   "cell_type": "code",
   "metadata": {},
   "source": "import pandas as pd\nimport numpy as np\nimport matplotlib.pyplot as plt\nimport seaborn as sns\n%matplotlib inline\n\nsns.set_style('whitegrid')\nplt.rcParams['figure.figsize'] = (10, 6)\npd.set_option('display.max_columns', None)"
  },
  {
   "cell_type": "markdown",
   "metadata": {},
   "source": "## 2. Load and Inspect Data"
  },
  {
   "cell_type": "code",
   "metadata": {},
   "source": "titanic = sns.load_dataset('titanic')\ntitanic.head()"
  },
  {
   "cell_type": "code",
   "metadata": {},
   "source": "print(\"Dataset shape:\", titanic.shape)\ntitanic.info()"
  },
  {
   "cell_type": "code",
   "metadata": {},
   "source": "titanic.describe(include='all')"
  },
  {
   "cell_type": "code",
   "metadata": {},
   "source": "titanic.isnull().sum()"
  },
  {
   "cell_type": "markdown",
   "metadata": {},
   "source": "## 3. Data Cleaning"
  },
  {
   "cell_type": "code",
   "metadata": {},
   "source": "median_ages = titanic.groupby(['pclass', 'sex'])['age'].median()\n\ndef fill_age(row):\n    if pd.isnull(row['age']):\n        return median_ages[row['pclass']][row['sex']]\n    return row['age']\n\ntitanic['age'] = titanic.apply(fill_age, axis=1)\n\nembarked_mode = titanic['embarked'].mode()[0]\ntitanic['embarked'] = titanic['embarked'].fillna(embarked_mode)\n\ntitanic.drop(['deck', 'embark_town'], axis=1, inplace=True)\n\ntitanic.isnull().sum()"
  },
  {
   "cell_type": "markdown",
   "metadata": {},
   "source": "## 4. Univariate Analysis"
  },
  {
   "cell_type": "code",
   "metadata": {},
   "source": "sns.countplot(x='survived', data=titanic)\nplt.title('Survival Distribution (0 = Died, 1 = Survived)')\nplt.show()"
  },
  {
   "cell_type": "code",
   "metadata": {},
   "source": "sns.countplot(x='pclass', data=titanic)\nplt.title('Passenger Class Distribution')\nplt.show()"
  },
  {
   "cell_type": "code",
   "metadata": {},
   "source": "sns.countplot(x='sex', data=titanic)\nplt.title('Gender Distribution')\nplt.show()"
  },
  {
   "cell_type": "code",
   "metadata": {},
   "source": "sns.histplot(titanic['age'], bins=30, kde=True)\nplt.title('Age Distribution')\nplt.show()"
  },
  {
   "cell_type": "code",
   "metadata": {},
   "source": "sns.histplot(titanic['fare'], bins=30, kde=True)\nplt.title('Fare Distribution')\nplt.show()"
  },
  {
   "cell_type": "markdown",
   "metadata": {},
   "source": "## 5. Bivariate Analysis"
  },
  {
   "cell_type": "code",
   "metadata": {},
   "source": "sns.barplot(x='pclass', y='survived', data=titanic)\nplt.title('Survival Rate by Passenger Class')\nplt.ylabel('Survival Rate')\nplt.show()"
  },
  {
   "cell_type": "code",
   "metadata": {},
   "source": "sns.barplot(x='sex', y='survived', data=titanic)\nplt.title('Survival Rate by Gender')\nplt.ylabel('Survival Rate')\nplt.show()"
  },
  {
   "cell_type": "code",
   "metadata": {},
   "source": "sns.boxplot(x='survived', y='age', data=titanic)\nplt.title('Age Distribution by Survival Status')\nplt.show()"
  },
  {
   "cell_type": "code",
   "metadata": {},
   "source": "sns.boxplot(x='survived', y='fare', data=titanic)\nplt.title('Fare Distribution by Survival Status')\nplt.show()"
  },
  {
   "cell_type": "markdown",
   "metadata": {},
   "source": "## 6. Multivariate Analysis"
  },
  {
   "cell_type": "code",
   "metadata": {},
   "source": "titanic_encoded = titanic.copy()\ntitanic_encoded['sex'] = titanic_encoded['sex'].map({'male': 0, 'female': 1})\ntitanic_encoded['embarked'] = titanic_encoded['embarked'].map({'S': 0, 'C': 1, 'Q': 2})\n\nnumerical_cols = ['survived', 'pclass', 'age', 'sibsp', 'parch', 'fare', 'sex', 'embarked']\ncorr_matrix = titanic_encoded[numerical_cols].corr()\n\nsns.heatmap(corr_matrix, annot=True, cmap='coolwarm', center=0, fmt='.2f')\nplt.title('Feature Correlation Heatmap')\nplt.show()"
  },
  {
   "cell_type": "code",
   "metadata": {},
   "source": "sns.pairplot(titanic[numerical_cols[:6]], hue='survived')\nplt.suptitle('Pairplot of Numerical Features Colored by Survival', y=1.02)\nplt.show()"
  },
  {
   "cell_type": "code",
   "metadata": {},
   "source": "sns.barplot(x='pclass', y='survived', hue='sex', data=titanic)\nplt.title('Survival Rate by Class and Gender')\nplt.ylabel('Survival Rate')\nplt.show()"
  },
  {
   "cell_type": "code",
   "metadata": {},
   "source": "sns.boxplot(x='pclass', y='age', hue='survived', data=titanic)\nplt.title('Age Distribution by Class and Survival Status')\nplt.show()"
  },
  {
   "cell_type": "markdown",
   "metadata": {},
   "source": "## 7. Feature Engineering"
  },
  {
   "cell_type": "code",
   "metadata": {},
   "source": "titanic['family_size'] = titanic['sibsp'] + titanic['parch'] + 1\n\ntitanic['age_group'] = pd.cut(titanic['age'], \n                             bins=[0, 12, 18, 30, 50, 100],\n                             labels=['Child', 'Teen', 'Young Adult', 'Adult', 'Senior'])\n\ntitanic['fare_group'] = pd.qcut(titanic['fare'], 4,\n                               labels=['Low', 'Medium', 'High', 'Very High'])"
  },
  {
   "cell_type": "code",
   "metadata": {},
   "source": "titanic[['family_size', 'age_group', 'fare_group']].head()"
  },
  {
   "cell_type": "code",
   "metadata": {},
   "source": "sns.barplot(x='family_size', y='survived', data=titanic)\nplt.title('Survival Rate by Family Size')\nplt.ylabel('Survival Rate')\nplt.show()"
  },
  {
   "cell_type": "code",
   "metadata": {},
   "source": "sns.barplot(x='age_group', y='survived', data=titanic)\nplt.title('Survival Rate by Age Group')\nplt.ylabel('Survival Rate')\nplt.show()"
  },
  {
   "cell_type": "markdown",
   "metadata": {},
   "source": "## 8. Key Findings Summary"
  },
  {
   "cell_type": "code",
   "metadata": {},
   "source": "survival_rate = titanic['survived'].mean()\nfemale_survival = titanic[titanic['sex'] == 'female']['survived'].mean()\nmale_survival = titanic[titanic['sex'] == 'male']['survived'].mean()\nclass1_survival = titanic[titanic['pclass'] == 1]['survived'].mean()\nchild_survival = titanic[titanic['age_group'] == 'Child']['survived'].mean()\n\nprint(f\"Overall survival rate: {survival_rate:.2%}\")\nprint(f\"Female survival rate: {female_survival:.2%}\")\nprint(f\"Male survival rate: {male_survival:.2%}\")\nprint(f\"First class survival rate: {class1_survival:.2%}\")\nprint(f\"Child survival rate: {child_survival:.2%}\")"
  },
  {
   "cell_type": "markdown",
   "metadata": {},
   "source": "### Main Insights:\n1. **Overall Survival**: Only 38% of passengers survived  \n2. **Gender Difference**: Females had 74% survival vs 19% for males  \n3. **Class Impact**: 1st class had 63% survival vs 24% for 3rd class  \n4. **Age Factor**: Children had the highest survival rate (59%)  \n5. **Family Size**: Medium family sizes (2-4) had better survival  \n6. **Fare Impact**: Higher fare groups had better survival rates  \n7. **Correlations**: Strongest correlations with survival were sex (0.54) and pclass (-0.34)"
  }
 ],
 "metadata": {
  "kernelspec": {
   "display_name": "Python 3",
   "language": "python",
   "name": "python3"
  },
  "language_info": {
   "name": "python",
   "version": ""
  }
 },
 "nbformat": 4,
 "nbformat_minor": 2
}
